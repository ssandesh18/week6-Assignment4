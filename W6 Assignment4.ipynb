{
  "nbformat": 4,
  "nbformat_minor": 0,
  "metadata": {
    "colab": {
      "provenance": []
    },
    "kernelspec": {
      "name": "python3",
      "display_name": "Python 3"
    },
    "language_info": {
      "name": "python"
    }
  },
  "cells": [
    {
      "cell_type": "code",
      "execution_count": null,
      "metadata": {
        "id": "hd3f0Q-OiX1O"
      },
      "outputs": [],
      "source": []
    },
    {
      "cell_type": "markdown",
      "source": [
        "Q1. What is Flask Framework? What are the advantages of Flask Framework?\n",
        "\n",
        "Python’s Flask micro web framework can be used to build web-based apps for interacting and displaying data-driven content. Although Flask is more frequently associated with web development, it can also be used in data science to create straightforward web interfaces, APIs (Application Programming Interfaces), and visualisation tools that enable data scientists and analysts to present their data and analyses in a user-friendly and interactive way.\n",
        "\n",
        "Lightweight\n",
        "Flask’s minimalistic design makes it fast, efficient, and ideal for small to medium-sized projects.\n",
        "\n",
        "Web developers are left with a certain amount of control as the modular design of the Flask framework lets functions be split out into interchangeable modules.\n",
        "\n",
        "The individual parts of the web app structure are moveable and testable on their own, which can make debugging source code much easier.\n",
        "\n",
        "Flexibility\n",
        "Flask provides developers with the freedom to choose their tools and libraries, allowing for a tailored development experience for web development companies.\n",
        "\n",
        "A Flask app can grow and scale up as needed over time. Your project may start as a single Python file and expand with new code.\n",
        "\n",
        "This concept marries well with the principles of the Zen of Python which state that simplicity is better than complexity.\n",
        "\n",
        "Extensibility and Integration\n",
        "Flask supports extensions – a wide variety of them – enabling developers to add additional functionality to their applications.\n",
        "\n",
        "The Flask framework seamlessly integrates with various database systems, making it versatile and adaptable.\n",
        "\n",
        "Simplicity\n",
        "The Flask framework is simple and is a great beginner framework if you know and understand Python.\n",
        "\n",
        "Even if you have no web development experience, it’s possible to create simple web pages with a basic knowledge of the Python language."
      ],
      "metadata": {
        "id": "rrEHNXwJiY3k"
      }
    },
    {
      "cell_type": "markdown",
      "source": [
        "Q2. Create a simple Flask application to display ‘Hello World!!’. Attach the screenshot of the output in\n",
        "Jupyter Notebook.\n",
        "\n",
        "# app.py\n",
        "from flask import Flask\n",
        "\n",
        "app = Flask(__name__)\n",
        "\n",
        "\n",
        "@app.route(\"/\")\n",
        "def hello_world():\n",
        "    return \"Hello, World!\"\n",
        "\n",
        "export FLASK_APP=app.py\n",
        "export FLASK_ENV=development\n",
        "flask run\n",
        "\n",
        "C:\\path\\to\\app>set FLASK_APP=app.py\n",
        "C:\\path\\to\\app>set FLASK_ENV=development\n",
        "PS C:\\path\\to\\app> $env:FLASK_APP = \"app.py\"\n",
        "PS C:\\path\\to\\app> $env:FLASK_ENV = \"development\"\n",
        "python -m flask run\n",
        "\n"
      ],
      "metadata": {
        "id": "HNxLIikxi1EG"
      }
    },
    {
      "cell_type": "markdown",
      "source": [
        "Q.4 Create a “/welcome” route to display the welcome message “Welcome to ABC Corporation” and a “/”\n",
        "route to show the following details:\n",
        "\n",
        "    Company Name: ABC Corporation\n",
        "\n",
        "    Location: India\n",
        "\n",
        "    Contact Detail: 999-999-9999\n",
        "\n",
        "from flask import Flask\n",
        "from flask import request,render_template,jsonify\n",
        "\n",
        "app = Flask(__name__)\n",
        "\n",
        "@app.route('/welcome')\n",
        "def  welcome_page():\n",
        "    return \"Welcome to ABC Corporation\"\n",
        "\n",
        "@app.route('/')\n",
        "def welcome():\n",
        "    return  \"Company Name: ABC Corporation <br> Location: India <br> Contact Detail: 999-999-9999\"   \n",
        "\n",
        "if __name__==\"__main__\":\n",
        "    app.run(host=\"0.0.0.0\")\n",
        "\n"
      ],
      "metadata": {
        "id": "lKZ-zJkpp9JA"
      }
    },
    {
      "cell_type": "markdown",
      "source": [
        "Q5. What function is used in Flask for URL Building? Write a Python code to demonstrate the working of the\n",
        "url_for() function.\n",
        "\n",
        "The url_for() method, is used to prepare a URL, for a function dynamically, such that, changing URLs, in the application, is avoided. It accepts, the name of the view function, as the first argument, and, any number of keywords, to be sent(to the view function), as the second argument.\n",
        "\n",
        "# import the Flask library\n",
        "from flask import Flask, render_template\n",
        "\n",
        "\n",
        "# Create the Flask instance and pass the Flask\n",
        "# constructor, the path of the correct module\n",
        "app = Flask(__name__)\n",
        "\n",
        "\n",
        "# Default route added using a decorator, for view function 'welcome'\n",
        "# Landing page of our web application - sportsmain.html\n",
        "@app.route('/')\n",
        "def welcome():\n",
        "\treturn render_template('sportsmain.html')\n",
        "\n",
        "\n",
        "# Start with flask web app, with debug as True,\n",
        "# only if this is the starting page\n",
        "if(__name__ == \"__main__\"):\n",
        "\tapp.run(debug=True)\n",
        "\n",
        "<!DOCTYPE html>\n",
        "<html lang=\"en\">\n",
        "<head>\n",
        "\t<meta charset=\"UTF-8\">\n",
        "\t<title>Sports</title>\n",
        "</head>\n",
        "<body>\n",
        "<h1> Encouragement for sports!</h1>\n",
        "<h2>Why are sports important?</h2>\n",
        "<ul>Let us understand -\n",
        "\t<li>Helps in Mental & Physical toughness</li>\n",
        "\t<li>Helps in developing Self Confidence & Team Spirit</li>\n",
        "\t<li>Teaches you how to organize your time!</li>\n",
        "</ul>\n",
        "\n",
        "</body>\n",
        "</html>\n"
      ],
      "metadata": {
        "id": "_uHYq7NUqPDy"
      }
    },
    {
      "cell_type": "markdown",
      "source": [],
      "metadata": {
        "id": "GbMVlfVDq_93"
      }
    }
  ]
}